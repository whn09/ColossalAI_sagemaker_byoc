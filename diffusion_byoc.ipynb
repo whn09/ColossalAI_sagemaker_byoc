{
 "cells": [
  {
   "cell_type": "code",
   "execution_count": 1,
   "id": "25ed62ac",
   "metadata": {},
   "outputs": [
    {
     "name": "stdout",
     "output_type": "stream",
     "text": [
      "/home/ec2-user/SageMaker/colo3/diffusion\n"
     ]
    }
   ],
   "source": [
    "!pwd"
   ]
  },
  {
   "cell_type": "code",
   "execution_count": 1,
   "id": "554d1321",
   "metadata": {
    "scrolled": true,
    "tags": []
   },
   "outputs": [
    {
     "name": "stdout",
     "output_type": "stream",
     "text": [
      "chmod: cannot access ‘serve’: No such file or directory\n",
      "us-west-2\n",
      "310850127430.dkr.ecr.us-west-2.amazonaws.com/diffusion:latest\n",
      "WARNING! Using --password via the CLI is insecure. Use --password-stdin.\n",
      "WARNING! Your password will be stored unencrypted in /home/ec2-user/.docker/config.json.\n",
      "Configure a credential helper to remove this warning. See\n",
      "https://docs.docker.com/engine/reference/commandline/login/#credentials-store\n",
      "\n",
      "Login Succeeded\n",
      "WARNING! Using --password via the CLI is insecure. Use --password-stdin.\n",
      "WARNING! Your password will be stored unencrypted in /home/ec2-user/.docker/config.json.\n",
      "Configure a credential helper to remove this warning. See\n",
      "https://docs.docker.com/engine/reference/commandline/login/#credentials-store\n",
      "\n",
      "Login Succeeded\n",
      "Sending build context to Docker daemon   1.92MB\n",
      "Step 1/21 : From hpcaitech/colossalai:0.2.5\n",
      " ---> 70d7ca75a2e7\n",
      "Step 2/21 : RUN apt-get install libgl1-mesa-glx  -y\n",
      " ---> Using cache\n",
      " ---> 636431ded217\n",
      "Step 3/21 : ENV LANG=en_US.utf8\n",
      " ---> Using cache\n",
      " ---> 76d3aabae4ad\n",
      "Step 4/21 : ENV LANG=C.UTF-8\n",
      " ---> Using cache\n",
      " ---> 8bbef8ed6d2f\n",
      "Step 5/21 : ENV PYTHONUNBUFFERED=TRUE\n",
      " ---> Using cache\n",
      " ---> d95f60724ea8\n",
      "Step 6/21 : ENV PYTHONDONTWRITEBYTECODE=TRUE\n",
      " ---> Using cache\n",
      " ---> 935c489a424c\n",
      "Step 7/21 : ENV PATH=\"/opt/ml:${PATH}\"\n",
      " ---> Using cache\n",
      " ---> 0890a94244b8\n",
      "Step 8/21 : WORKDIR /opt/ml\n",
      " ---> Using cache\n",
      " ---> 5e8030f8039c\n",
      "Step 9/21 : RUN wget --no-verbose https://huggingface.co/stabilityai/stable-diffusion-2-base/resolve/main/512-base-ema.ckpt\n",
      " ---> Using cache\n",
      " ---> e240834ac0a4\n",
      "Step 10/21 : COPY requirements.txt.1 /opt/ml/\n",
      " ---> Using cache\n",
      " ---> 78582c739b5a\n",
      "Step 11/21 : COPY setup.py /opt/ml/\n",
      " ---> Using cache\n",
      " ---> 6dab370813ff\n",
      "Step 12/21 : RUN pip install -r requirements.txt.1 && pip install lightning && pip install -e . && pip install boto3\n",
      " ---> Using cache\n",
      " ---> 280e9d497f7d\n",
      "Step 13/21 : RUN git clone https://github.com/hpcaitech/ColossalAI.git /opt/ml/ColossalAI\n",
      " ---> Using cache\n",
      " ---> 2c8c2becea6b\n",
      "Step 14/21 : RUN cd /opt/ml/ColossalAI && pip install -e .\n",
      " ---> Using cache\n",
      " ---> e54e89639e3d\n",
      "Step 15/21 : COPY . /opt/ml\n",
      " ---> 29e6e0220f47\n",
      "Step 16/21 : RUN ls /opt/ml\n",
      " ---> Running in f2a2b0f46847\n",
      "512-base-ema.ckpt\n",
      "ColossalAI\n",
      "Dockerfile\n",
      "LICENSE\n",
      "README.md\n",
      "build_and_push\n",
      "colo3.zip\n",
      "configs\n",
      "diffusion_byoc.ipynb\n",
      "docker\n",
      "environment.yaml\n",
      "latent_diffusion.egg-info\n",
      "ldm\n",
      "log\n",
      "main.py\n",
      "main_1.py\n",
      "requirements.txt\n",
      "requirements.txt.1\n",
      "scripts\n",
      "setup.py\n",
      "test_ci.sh\n",
      "train\n",
      "train_colossalai.sh\n",
      "train_colossalai_teyvat.yaml\n",
      "train_ddp.sh\n",
      "Removing intermediate container f2a2b0f46847\n",
      " ---> 723ac290c0e1\n",
      "Step 17/21 : WORKDIR /opt/ml\n",
      " ---> Running in 59cfa8d8ffa7\n",
      "Removing intermediate container 59cfa8d8ffa7\n",
      " ---> 1a62f8f9fad7\n",
      "Step 18/21 : ENV HF_DATASETS_OFFLINE=0\n",
      " ---> Running in 71e992dc118f\n",
      "Removing intermediate container 71e992dc118f\n",
      " ---> 3f1d273e4e75\n",
      "Step 19/21 : ENV TRANSFORMERS_OFFLINE=1\n",
      " ---> Running in d63921163771\n",
      "Removing intermediate container d63921163771\n",
      " ---> 7159e4e860f7\n",
      "Step 20/21 : ENV DIFFUSERS_OFFLINE=1\n",
      " ---> Running in c4f573171b89\n",
      "Removing intermediate container c4f573171b89\n",
      " ---> bd8cb418264c\n",
      "Step 21/21 : ENV SAGEMAKER_PROGRAM main_1.py --logdir /opt/ml/model --train --base train_colossalai_teyvat.yaml --ckpt ./512-base-ema.ckpt\n",
      " ---> Running in 8b5a3d2aa704\n",
      "Removing intermediate container 8b5a3d2aa704\n",
      " ---> 5a443045eb58\n",
      "Successfully built 5a443045eb58\n",
      "Successfully tagged diffusion:latest\n",
      "The push refers to repository [310850127430.dkr.ecr.us-west-2.amazonaws.com/diffusion]\n",
      "\n",
      "\u001b[1B4ccab394: Preparing \n",
      "\u001b[1B28d875ae: Preparing \n",
      "\u001b[1Bb4a92a9c: Preparing \n",
      "\u001b[1Bb682163b: Preparing \n",
      "\u001b[1B02d98923: Preparing \n",
      "\u001b[1Bb51da4bd: Preparing \n",
      "\u001b[1B372d77f1: Preparing \n",
      "\u001b[1B8c26bd57: Preparing \n",
      "\u001b[1Be26ccf08: Preparing \n",
      "\u001b[1B1afd9f23: Preparing \n",
      "\u001b[1B373a1616: Preparing \n",
      "\u001b[1B765f19d1: Preparing \n",
      "\u001b[1B9e5817b6: Preparing \n",
      "\u001b[1B44e37d06: Preparing \n",
      "\u001b[1B30efb737: Preparing \n",
      "\u001b[1Beca3d986: Preparing \n",
      "\u001b[1B616d4fb1: Preparing \n",
      "\u001b[1Bac543081: Preparing \n",
      "\u001b[1Bc4c62eef: Preparing \n",
      "\u001b[1Ba71261c7: Preparing \n",
      "\u001b[1Bba43cdbe: Preparing \n",
      "\u001b[1B942867a5: Preparing \n",
      "\u001b[1Bfe6d10a9: Preparing \n",
      "\u001b[1B91182163: Preparing \n",
      "\u001b[1B6c5bb65c: Preparing \n",
      "\u001b[1B550a3bbe: Preparing \n",
      "\u001b[1Bedc62fb3: Layer already exists 7MB\u001b[26A\u001b[2K\u001b[27A\u001b[2K\u001b[19A\u001b[2K\u001b[15A\u001b[2K\u001b[27A\u001b[2K\u001b[11A\u001b[2K\u001b[7A\u001b[2K\u001b[3A\u001b[2K\u001b[2A\u001b[2Klatest: digest: sha256:12fd7eac257dce5cbf3574cf4ba8ecbd0d99cc01dbf6e864258103ed7740de6d size: 6012\n"
     ]
    }
   ],
   "source": [
    "!./build_and_push diffusion\n"
   ]
  },
  {
   "cell_type": "code",
   "execution_count": null,
   "id": "ab8890c3",
   "metadata": {},
   "outputs": [],
   "source": []
  },
  {
   "cell_type": "code",
   "execution_count": 6,
   "id": "666fff31",
   "metadata": {
    "scrolled": true,
    "tags": []
   },
   "outputs": [],
   "source": [
    "# from sagemaker import get_execution_role\n",
    "\n",
    "# role = get_execution_role()\n",
    "# from sagemaker.estimator import Estimator\n",
    "# instance_type = 'local_gpu'\n",
    "# estimator = Estimator(role=role,\n",
    "#                       instance_count=1,\n",
    "#                       instance_type=instance_type,\n",
    "#                       image_uri='diffusion')\n",
    "\n",
    "# estimator.fit('file:///home/ec2-user/SageMaker/colo3/diffusion/train_colossalai_teyvat.yaml')"
   ]
  },
  {
   "cell_type": "code",
   "execution_count": null,
   "id": "7233cfbe",
   "metadata": {
    "scrolled": true
   },
   "outputs": [
    {
     "name": "stderr",
     "output_type": "stream",
     "text": [
      "INFO:sagemaker:Creating training-job with name: diffusion-2023-02-28-12-12-28-144\n"
     ]
    },
    {
     "name": "stdout",
     "output_type": "stream",
     "text": [
      "2023-02-28 12:12:28 Starting - Starting the training job...\n",
      "2023-02-28 12:12:43 Starting - Preparing the instances for training......\n",
      "2023-02-28 12:13:52 Downloading - Downloading input data\n",
      "2023-02-28 12:13:52 Training - Downloading the training image........"
     ]
    }
   ],
   "source": [
    "from sagemaker import get_execution_role\n",
    "\n",
    "role = get_execution_role()\n",
    "from sagemaker.estimator import Estimator\n",
    "instance_type = 'ml.g5.xlarge'\n",
    "estimator = Estimator(role=role,\n",
    "                      instance_count=1,\n",
    "                      instance_type=instance_type,\n",
    "                      volume_size=50,\n",
    "                      image_uri='310850127430.dkr.ecr.us-west-2.amazonaws.com/diffusion')\n",
    "\n",
    "estimator.fit('s3://sagemaker-us-west-2-310850127430/2023-02-26T12-59-14_sd/configs/2023-02-26T12-59-14-lightning.yaml')"
   ]
  },
  {
   "cell_type": "code",
   "execution_count": null,
   "id": "dc70fc84",
   "metadata": {},
   "outputs": [],
   "source": []
  }
 ],
 "metadata": {
  "kernelspec": {
   "display_name": "conda_amazonei_pytorch_latest_p37",
   "language": "python",
   "name": "conda_amazonei_pytorch_latest_p37"
  },
  "language_info": {
   "codemirror_mode": {
    "name": "ipython",
    "version": 3
   },
   "file_extension": ".py",
   "mimetype": "text/x-python",
   "name": "python",
   "nbconvert_exporter": "python",
   "pygments_lexer": "ipython3",
   "version": "3.7.10"
  }
 },
 "nbformat": 4,
 "nbformat_minor": 5
}
